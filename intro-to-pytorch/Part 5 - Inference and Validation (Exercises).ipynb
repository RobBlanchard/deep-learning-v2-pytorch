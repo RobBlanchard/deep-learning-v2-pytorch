{
 "cells": [
  {
   "cell_type": "markdown",
   "metadata": {},
   "source": [
    "# Inference and Validation\n",
    "\n",
    "Now that you have a trained network, you can use it for making predictions. This is typically called **inference**, a term borrowed from statistics. However, neural networks have a tendency to perform *too well* on the training data and aren't able to generalize to data that hasn't been seen before. This is called **overfitting** and it impairs inference performance. To test for overfitting while training, we measure the performance on data not in the training set called the **validation** set. We avoid overfitting through regularization such as dropout while monitoring the validation performance during training. In this notebook, I'll show you how to do this in PyTorch. \n",
    "\n",
    "As usual, let's start by loading the dataset through torchvision. You'll learn more about torchvision and loading data in a later part. This time we'll be taking advantage of the test set which you can get by setting `train=False` here:\n",
    "\n",
    "```python\n",
    "testset = datasets.FashionMNIST('~/.pytorch/F_MNIST_data/', download=True, train=False, transform=transform)\n",
    "```\n",
    "\n",
    "The test set contains images just like the training set. Typically you'll see 10-20% of the original dataset held out for testing and validation with the rest being used for training."
   ]
  },
  {
   "cell_type": "code",
   "execution_count": 1,
   "metadata": {},
   "outputs": [],
   "source": [
    "import torch\n",
    "from torchvision import datasets, transforms\n",
    "\n",
    "# Define a transform to normalize the data\n",
    "transform = transforms.Compose([transforms.ToTensor(),\n",
    "                                transforms.Normalize((0.5,), (0.5,))])\n",
    "# Download and load the training data\n",
    "trainset = datasets.FashionMNIST('~/.pytorch/F_MNIST_data/', download=True, train=True, transform=transform)\n",
    "trainloader = torch.utils.data.DataLoader(trainset, batch_size=64, shuffle=True)\n",
    "\n",
    "# Download and load the test data\n",
    "testset = datasets.FashionMNIST('~/.pytorch/F_MNIST_data/', download=True, train=False, transform=transform)\n",
    "testloader = torch.utils.data.DataLoader(testset, batch_size=64, shuffle=True)"
   ]
  },
  {
   "cell_type": "markdown",
   "metadata": {},
   "source": [
    "Here I'll create a model like normal, using the same one from my solution for part 4."
   ]
  },
  {
   "cell_type": "code",
   "execution_count": 2,
   "metadata": {},
   "outputs": [],
   "source": [
    "from torch import nn, optim\n",
    "import torch.nn.functional as F\n",
    "\n",
    "class Classifier(nn.Module):\n",
    "    def __init__(self):\n",
    "        super().__init__()\n",
    "        self.fc1 = nn.Linear(784, 256)\n",
    "        self.fc2 = nn.Linear(256, 128)\n",
    "        self.fc3 = nn.Linear(128, 64)\n",
    "        self.fc4 = nn.Linear(64, 10)\n",
    "        \n",
    "    def forward(self, x):\n",
    "        # make sure input tensor is flattened\n",
    "        x = x.view(x.shape[0], -1)\n",
    "        \n",
    "        x = F.relu(self.fc1(x))\n",
    "        x = F.relu(self.fc2(x))\n",
    "        x = F.relu(self.fc3(x))\n",
    "        x = F.log_softmax(self.fc4(x), dim=1)\n",
    "        \n",
    "        return x"
   ]
  },
  {
   "cell_type": "markdown",
   "metadata": {},
   "source": [
    "The goal of validation is to measure the model's performance on data that isn't part of the training set. Performance here is up to the developer to define though. Typically this is just accuracy, the percentage of classes the network predicted correctly. Other options are [precision and recall](https://en.wikipedia.org/wiki/Precision_and_recall#Definition_(classification_context)) and top-5 error rate. We'll focus on accuracy here. First I'll do a forward pass with one batch from the test set."
   ]
  },
  {
   "cell_type": "code",
   "execution_count": 7,
   "metadata": {},
   "outputs": [
    {
     "name": "stdout",
     "output_type": "stream",
     "text": [
      "torch.Size([64, 10])\n"
     ]
    }
   ],
   "source": [
    "model = Classifier()\n",
    "\n",
    "images, labels = next(iter(testloader))\n",
    "# Get the class probabilities\n",
    "ps = torch.exp(model(images))\n",
    "# Make sure the shape is appropriate, we should get 10 class probabilities for 64 examples\n",
    "print(ps.shape)"
   ]
  },
  {
   "cell_type": "markdown",
   "metadata": {},
   "source": [
    "With the probabilities, we can get the most likely class using the `ps.topk` method. This returns the $k$ highest values. Since we just want the most likely class, we can use `ps.topk(1)`. This returns a tuple of the top-$k$ values and the top-$k$ indices. If the highest value is the fifth element, we'll get back 4 as the index."
   ]
  },
  {
   "cell_type": "code",
   "execution_count": 9,
   "metadata": {},
   "outputs": [
    {
     "name": "stdout",
     "output_type": "stream",
     "text": [
      "tensor([[7],\n",
      "        [7],\n",
      "        [7],\n",
      "        [0],\n",
      "        [7],\n",
      "        [7],\n",
      "        [9],\n",
      "        [9],\n",
      "        [9],\n",
      "        [7]])\n"
     ]
    }
   ],
   "source": [
    "top_p, top_class = ps.topk(1, dim=1)\n",
    "# Look at the most likely classes for the first 10 examples\n",
    "print(top_class[:10,:])"
   ]
  },
  {
   "cell_type": "markdown",
   "metadata": {},
   "source": [
    "Now we can check if the predicted classes match the labels. This is simple to do by equating `top_class` and `labels`, but we have to be careful of the shapes. Here `top_class` is a 2D tensor with shape `(64, 1)` while `labels` is 1D with shape `(64)`. To get the equality to work out the way we want, `top_class` and `labels` must have the same shape.\n",
    "\n",
    "If we do\n",
    "\n",
    "```python\n",
    "equals = top_class == labels\n",
    "```\n",
    "\n",
    "`equals` will have shape `(64, 64)`, try it yourself. What it's doing is comparing the one element in each row of `top_class` with each element in `labels` which returns 64 True/False boolean values for each row."
   ]
  },
  {
   "cell_type": "code",
   "execution_count": 5,
   "metadata": {},
   "outputs": [],
   "source": [
    "equals = top_class == labels.view(*top_class.shape)"
   ]
  },
  {
   "cell_type": "markdown",
   "metadata": {},
   "source": [
    "Now we need to calculate the percentage of correct predictions. `equals` has binary values, either 0 or 1. This means that if we just sum up all the values and divide by the number of values, we get the percentage of correct predictions. This is the same operation as taking the mean, so we can get the accuracy with a call to `torch.mean`. If only it was that simple. If you try `torch.mean(equals)`, you'll get an error\n",
    "\n",
    "```\n",
    "RuntimeError: mean is not implemented for type torch.ByteTensor\n",
    "```\n",
    "\n",
    "This happens because `equals` has type `torch.ByteTensor` but `torch.mean` isn't implemented for tensors with that type. So we'll need to convert `equals` to a float tensor. Note that when we take `torch.mean` it returns a scalar tensor, to get the actual value as a float we'll need to do `accuracy.item()`."
   ]
  },
  {
   "cell_type": "code",
   "execution_count": 6,
   "metadata": {},
   "outputs": [
    {
     "name": "stdout",
     "output_type": "stream",
     "text": [
      "tensor(0.1406)\n",
      "Accuracy: 14.0625%\n"
     ]
    }
   ],
   "source": [
    "accuracy = torch.mean(equals.type(torch.FloatTensor))\n",
    "print(accuracy)\n",
    "print(f'Accuracy: {accuracy.item()*100}%')"
   ]
  },
  {
   "cell_type": "markdown",
   "metadata": {},
   "source": [
    "The network is untrained so it's making random guesses and we should see an accuracy around 10%. Now let's train our network and include our validation pass so we can measure how well the network is performing on the test set. Since we're not updating our parameters in the validation pass, we can speed up our code by turning off gradients using `torch.no_grad()`:\n",
    "\n",
    "```python\n",
    "# turn off gradients\n",
    "with torch.no_grad():\n",
    "    # validation pass here\n",
    "    for images, labels in testloader:\n",
    "        ...\n",
    "```\n",
    "\n",
    ">**Exercise:** Implement the validation loop below and print out the total accuracy after the loop. You can largely copy and paste the code from above, but I suggest typing it in because writing it out yourself is essential for building the skill. In general you'll always learn more by typing it rather than copy-pasting. You should be able to get an accuracy above 80%."
   ]
  },
  {
   "cell_type": "code",
   "execution_count": 28,
   "metadata": {},
   "outputs": [
    {
     "data": {
      "text/plain": [
       "tensor(0.6780)"
      ]
     },
     "execution_count": 28,
     "metadata": {},
     "output_type": "execute_result"
    }
   ],
   "source": [
    "torch.tensor(678).type(torch.FloatTensor)/1000"
   ]
  },
  {
   "cell_type": "code",
   "execution_count": 29,
   "metadata": {},
   "outputs": [
    {
     "name": "stdout",
     "output_type": "stream",
     "text": [
      "Epoch 0 :\n",
      "Training loss: 0.5183369791679291\n",
      "Validation loss: 0.4357679784297943\n",
      "Accuracy: 84.57000255584717%\n",
      "\n",
      "Epoch 1 :\n",
      "Training loss: 0.3914293529890748\n",
      "Validation loss: 0.4137401282787323\n",
      "Accuracy: 85.46000123023987%\n",
      "\n",
      "Epoch 2 :\n",
      "Training loss: 0.3568159056338928\n",
      "Validation loss: 0.408075749874115\n",
      "Accuracy: 85.62999963760376%\n",
      "\n",
      "Epoch 3 :\n",
      "Training loss: 0.3289514407912678\n",
      "Validation loss: 0.3714844882488251\n",
      "Accuracy: 86.40999794006348%\n",
      "\n",
      "Epoch 4 :\n",
      "Training loss: 0.31069797395802\n",
      "Validation loss: 0.3826701045036316\n",
      "Accuracy: 86.59999966621399%\n",
      "\n",
      "Epoch 5 :\n",
      "Training loss: 0.30201814469815824\n",
      "Validation loss: 0.37007075548171997\n",
      "Accuracy: 86.83000206947327%\n",
      "\n",
      "Epoch 6 :\n",
      "Training loss: 0.2941033421342434\n",
      "Validation loss: 0.36047303676605225\n",
      "Accuracy: 87.52999901771545%\n",
      "\n",
      "Epoch 7 :\n",
      "Training loss: 0.2816332374999264\n",
      "Validation loss: 0.374149888753891\n",
      "Accuracy: 87.20999956130981%\n",
      "\n",
      "Epoch 8 :\n",
      "Training loss: 0.27399280359908973\n",
      "Validation loss: 0.37516388297080994\n",
      "Accuracy: 86.93000078201294%\n",
      "\n",
      "Epoch 9 :\n",
      "Training loss: 0.2648535475357255\n",
      "Validation loss: 0.3775598108768463\n",
      "Accuracy: 87.34999895095825%\n",
      "\n",
      "Epoch 10 :\n",
      "Training loss: 0.2625064432366825\n",
      "Validation loss: 0.3523366153240204\n",
      "Accuracy: 87.94999718666077%\n",
      "\n",
      "Epoch 11 :\n",
      "Training loss: 0.25664428857041954\n",
      "Validation loss: 0.34867796301841736\n",
      "Accuracy: 88.31999897956848%\n",
      "\n",
      "Epoch 12 :\n",
      "Training loss: 0.248092870901166\n",
      "Validation loss: 0.3844680190086365\n",
      "Accuracy: 87.45999932289124%\n",
      "\n",
      "Epoch 13 :\n",
      "Training loss: 0.2389164588360517\n",
      "Validation loss: 0.3966710567474365\n",
      "Accuracy: 87.6200020313263%\n",
      "\n",
      "Epoch 14 :\n",
      "Training loss: 0.24044328987566646\n",
      "Validation loss: 0.4040471315383911\n",
      "Accuracy: 87.19000220298767%\n",
      "\n",
      "Epoch 15 :\n",
      "Training loss: 0.2300774838124066\n",
      "Validation loss: 0.38472530245780945\n",
      "Accuracy: 88.1600022315979%\n",
      "\n",
      "Epoch 16 :\n",
      "Training loss: 0.23076981266360802\n",
      "Validation loss: 0.3865607678890228\n",
      "Accuracy: 88.20000290870667%\n",
      "\n",
      "Epoch 17 :\n",
      "Training loss: 0.22720299251695306\n",
      "Validation loss: 0.4005638062953949\n",
      "Accuracy: 87.58999705314636%\n",
      "\n",
      "Epoch 18 :\n",
      "Training loss: 0.2224224824180354\n",
      "Validation loss: 0.36764389276504517\n",
      "Accuracy: 88.13999891281128%\n",
      "\n",
      "Epoch 19 :\n",
      "Training loss: 0.218760963791469\n",
      "Validation loss: 0.3829987645149231\n",
      "Accuracy: 88.19000124931335%\n",
      "\n",
      "Epoch 20 :\n",
      "Training loss: 0.21204129826904997\n",
      "Validation loss: 0.39295828342437744\n",
      "Accuracy: 88.40000033378601%\n",
      "\n",
      "Epoch 21 :\n",
      "Training loss: 0.21082565355410518\n",
      "Validation loss: 0.3777652084827423\n",
      "Accuracy: 88.13999891281128%\n",
      "\n",
      "Epoch 22 :\n",
      "Training loss: 0.20963357017238513\n",
      "Validation loss: 0.3697551190853119\n",
      "Accuracy: 88.73000144958496%\n",
      "\n",
      "Epoch 23 :\n",
      "Training loss: 0.2038514117188037\n",
      "Validation loss: 0.4152795076370239\n",
      "Accuracy: 88.26000094413757%\n",
      "\n",
      "Epoch 24 :\n",
      "Training loss: 0.20500439194950468\n",
      "Validation loss: 0.38944897055625916\n",
      "Accuracy: 88.31999897956848%\n",
      "\n",
      "Epoch 25 :\n",
      "Training loss: 0.19540399093149122\n",
      "Validation loss: 0.4057179391384125\n",
      "Accuracy: 88.3400022983551%\n",
      "\n",
      "Epoch 26 :\n",
      "Training loss: 0.1987360584448332\n",
      "Validation loss: 0.4177645146846771\n",
      "Accuracy: 87.76999711990356%\n",
      "\n",
      "Epoch 27 :\n",
      "Training loss: 0.1896457224965159\n",
      "Validation loss: 0.4082387387752533\n",
      "Accuracy: 88.60999941825867%\n",
      "\n",
      "Epoch 28 :\n",
      "Training loss: 0.18673501448479415\n",
      "Validation loss: 0.4159546494483948\n",
      "Accuracy: 88.01000118255615%\n",
      "\n",
      "Epoch 29 :\n",
      "Training loss: 0.18568698189922297\n",
      "Validation loss: 0.43323326110839844\n",
      "Accuracy: 88.53999972343445%\n",
      "\n"
     ]
    }
   ],
   "source": [
    "model = Classifier()\n",
    "criterion = nn.NLLLoss()\n",
    "optimizer = optim.Adam(model.parameters(), lr=0.003)\n",
    "\n",
    "epochs = 30\n",
    "steps = 0\n",
    "\n",
    "train_losses, test_losses = [], []\n",
    "\n",
    "for e in range(epochs):\n",
    "    running_loss = 0\n",
    "    for images, labels in trainloader:\n",
    "        \n",
    "        optimizer.zero_grad()\n",
    "        \n",
    "        log_ps = model(images)\n",
    "        loss = criterion(log_ps, labels)\n",
    "        loss.backward()\n",
    "        optimizer.step()\n",
    "        \n",
    "        running_loss += loss.item()\n",
    "        \n",
    "    else:\n",
    "        ## TODO: Implement the validation pass and print out the validation accuracy\n",
    "        train_losses.append(running_loss/len(trainloader))\n",
    "        \n",
    "        with torch.no_grad():\n",
    "        \n",
    "            running_loss = 0\n",
    "            accuracy = 0\n",
    "            accuracy_len = 0\n",
    "            for images, labels in testloader:\n",
    "\n",
    "                log_ps = model(images)\n",
    "                top_p, prediction = torch.topk(log_ps, k=1)\n",
    "\n",
    "                loss = criterion(log_ps, labels)\n",
    "                results = prediction == labels.view(*prediction.shape)\n",
    "\n",
    "                running_loss+= loss\n",
    "                accuracy+=torch.sum(results)\n",
    "                accuracy_len+=results.shape[0]\n",
    "            \n",
    "            accuracy = accuracy.type(torch.FloatTensor) / accuracy_len\n",
    "            test_losses.append(running_loss/len(testloader))\n",
    "        \n",
    "        print(f'Epoch {e} :')\n",
    "        print(f'Training loss: {train_losses[-1]}')\n",
    "        print(f'Validation loss: {test_losses[-1]}')\n",
    "        print(f'Accuracy: {accuracy.item()*100}%\\n')"
   ]
  },
  {
   "cell_type": "code",
   "execution_count": 31,
   "metadata": {},
   "outputs": [
    {
     "data": {
      "text/plain": [
       "[<matplotlib.lines.Line2D at 0x7fd9c97fb510>]"
      ]
     },
     "execution_count": 31,
     "metadata": {},
     "output_type": "execute_result"
    },
    {
     "data": {
      "image/png": "[encoded data removed]",
      "text/plain": [
       "<Figure size 432x288 with 1 Axes>"
      ]
     },
     "metadata": {
      "image/png": {
       "height": 248,
       "width": 380
      },
      "needs_background": "light"
     },
     "output_type": "display_data"
    }
   ],
   "source": [
    "import matplotlib.pyplot as plt\n",
    "%matplotlib inline\n",
    "%config InlineBackend.figure_format = 'retina'\n",
    "\n",
    "plt.plot(train_losses)\n",
    "plt.plot(test_losses)"
   ]
  },
  {
   "cell_type": "markdown",
   "metadata": {},
   "source": [
    "## Overfitting\n",
    "\n",
    "If we look at the training and validation losses as we train the network, we can see a phenomenon known as overfitting.\n",
    "\n",
    "<img src='assets/overfitting.png' width=450px>\n",
    "\n",
    "The network learns the training set better and better, resulting in lower training losses. However, it starts having problems generalizing to data outside the training set leading to the validation loss increasing. The ultimate goal of any deep learning model is to make predictions on new data, so we should strive to get the lowest validation loss possible. One option is to use the version of the model with the lowest validation loss, here the one around 8-10 training epochs. This strategy is called *early-stopping*. In practice, you'd save the model frequently as you're training then later choose the model with the lowest validation loss.\n",
    "\n",
    "The most common method to reduce overfitting (outside of early-stopping) is *dropout*, where we randomly drop input units. This forces the network to share information between weights, increasing it's ability to generalize to new data. Adding dropout in PyTorch is straightforward using the [`nn.Dropout`](https://pytorch.org/docs/stable/nn.html#torch.nn.Dropout) module.\n",
    "\n",
    "```python\n",
    "class Classifier(nn.Module):\n",
    "    def __init__(self):\n",
    "        super().__init__()\n",
    "        self.fc1 = nn.Linear(784, 256)\n",
    "        self.fc2 = nn.Linear(256, 128)\n",
    "        self.fc3 = nn.Linear(128, 64)\n",
    "        self.fc4 = nn.Linear(64, 10)\n",
    "        \n",
    "        # Dropout module with 0.2 drop probability\n",
    "        self.dropout = nn.Dropout(p=0.2)\n",
    "        \n",
    "    def forward(self, x):\n",
    "        # make sure input tensor is flattened\n",
    "        x = x.view(x.shape[0], -1)\n",
    "        \n",
    "        # Now with dropout\n",
    "        x = self.dropout(F.relu(self.fc1(x)))\n",
    "        x = self.dropout(F.relu(self.fc2(x)))\n",
    "        x = self.dropout(F.relu(self.fc3(x)))\n",
    "        \n",
    "        # output so no dropout here\n",
    "        x = F.log_softmax(self.fc4(x), dim=1)\n",
    "        \n",
    "        return x\n",
    "```\n",
    "\n",
    "During training we want to use dropout to prevent overfitting, but during inference we want to use the entire network. So, we need to turn off dropout during validation, testing, and whenever we're using the network to make predictions. To do this, you use `model.eval()`. This sets the model to evaluation mode where the dropout probability is 0. You can turn dropout back on by setting the model to train mode with `model.train()`. In general, the pattern for the validation loop will look like this, where you turn off gradients, set the model to evaluation mode, calculate the validation loss and metric, then set the model back to train mode.\n",
    "\n",
    "```python\n",
    "# turn off gradients\n",
    "with torch.no_grad():\n",
    "    \n",
    "    # set model to evaluation mode\n",
    "    model.eval()\n",
    "    \n",
    "    # validation pass here\n",
    "    for images, labels in testloader:\n",
    "        ...\n",
    "\n",
    "# set model back to train mode\n",
    "model.train()\n",
    "```"
   ]
  },
  {
   "cell_type": "markdown",
   "metadata": {},
   "source": [
    "> **Exercise:** Add dropout to your model and train it on Fashion-MNIST again. See if you can get a lower validation loss or higher accuracy."
   ]
  },
  {
   "cell_type": "code",
   "execution_count": 48,
   "metadata": {},
   "outputs": [],
   "source": [
    "## TODO: Define your model with dropout added\n",
    "class ClassifierDropout(nn.Module):\n",
    "    def __init__(self):\n",
    "        super().__init__()\n",
    "        self.fc1 = nn.Linear(784,256)\n",
    "        self.fc2 = nn.Linear(256,128)\n",
    "        self.fc3 = nn.Linear(128,64)\n",
    "        self.fc4 = nn.Linear(64,10)\n",
    "        \n",
    "        self.dropout = nn.Dropout(p=0.2)\n",
    "    \n",
    "    def forward(self, x):\n",
    "        x = x.view(x.shape[0], -1)\n",
    "        \n",
    "        x = self.dropout(F.relu(self.fc1(x)))\n",
    "        x = self.dropout(F.relu(self.fc2(x)))\n",
    "        x = self.dropout(F.relu(self.fc3(x)))\n",
    "        \n",
    "        return F.log_softmax(self.fc4(x), dim=1)"
   ]
  },
  {
   "cell_type": "code",
   "execution_count": 54,
   "metadata": {},
   "outputs": [
    {
     "name": "stdout",
     "output_type": "stream",
     "text": [
      "Epoch 0 :\n",
      "Training loss: 0.5977242546898724\n",
      "Validation loss: 0.47441238164901733\n",
      "Accuracy: 81.98999762535095%\n",
      "\n",
      "Epoch 1 :\n",
      "Training loss: 0.4846095784323048\n",
      "Validation loss: 0.4755668044090271\n",
      "Accuracy: 82.99000263214111%\n",
      "\n",
      "Epoch 2 :\n",
      "Training loss: 0.4569530638137352\n",
      "Validation loss: 0.4389684498310089\n",
      "Accuracy: 84.71999764442444%\n",
      "\n",
      "Epoch 3 :\n",
      "Training loss: 0.43373902412905874\n",
      "Validation loss: 0.4396105706691742\n",
      "Accuracy: 84.64999794960022%\n",
      "\n",
      "Epoch 4 :\n",
      "Training loss: 0.4232281451540461\n",
      "Validation loss: 0.44732967019081116\n",
      "Accuracy: 84.76999998092651%\n",
      "\n",
      "Epoch 5 :\n",
      "Training loss: 0.41522072684536104\n",
      "Validation loss: 0.3982837498188019\n",
      "Accuracy: 85.589998960495%\n",
      "\n",
      "Epoch 6 :\n",
      "Training loss: 0.4072927644353177\n",
      "Validation loss: 0.4009440839290619\n",
      "Accuracy: 85.93999743461609%\n",
      "\n",
      "Epoch 7 :\n",
      "Training loss: 0.40580964739770015\n",
      "Validation loss: 0.3869139552116394\n",
      "Accuracy: 86.14000082015991%\n",
      "\n",
      "Epoch 8 :\n",
      "Training loss: 0.39210005015579624\n",
      "Validation loss: 0.4524657726287842\n",
      "Accuracy: 85.28000116348267%\n",
      "\n",
      "Epoch 9 :\n",
      "Training loss: 0.39298456193986475\n",
      "Validation loss: 0.3779298961162567\n",
      "Accuracy: 86.51000261306763%\n",
      "\n",
      "Epoch 10 :\n",
      "Training loss: 0.38933774411106414\n",
      "Validation loss: 0.4026462435722351\n",
      "Accuracy: 86.01999878883362%\n",
      "\n",
      "Epoch 11 :\n",
      "Training loss: 0.38489940551234714\n",
      "Validation loss: 0.4041898548603058\n",
      "Accuracy: 86.22000217437744%\n",
      "\n",
      "Epoch 12 :\n",
      "Training loss: 0.37792500230009113\n",
      "Validation loss: 0.3857441246509552\n",
      "Accuracy: 87.0199978351593%\n",
      "\n",
      "Epoch 13 :\n",
      "Training loss: 0.37780242074908477\n",
      "Validation loss: 0.399927020072937\n",
      "Accuracy: 86.28000020980835%\n",
      "\n",
      "Epoch 14 :\n",
      "Training loss: 0.3813270728693588\n",
      "Validation loss: 0.39419272541999817\n",
      "Accuracy: 86.44000291824341%\n",
      "\n",
      "Epoch 15 :\n",
      "Training loss: 0.36706555086666587\n",
      "Validation loss: 0.3906118869781494\n",
      "Accuracy: 86.51999831199646%\n",
      "\n",
      "Epoch 16 :\n",
      "Training loss: 0.36883430910517156\n",
      "Validation loss: 0.3801925778388977\n",
      "Accuracy: 86.65000200271606%\n",
      "\n",
      "Epoch 17 :\n",
      "Training loss: 0.36420000973604383\n",
      "Validation loss: 0.4111756682395935\n",
      "Accuracy: 86.080002784729%\n",
      "\n",
      "Epoch 18 :\n",
      "Training loss: 0.3692066030286904\n",
      "Validation loss: 0.4090650975704193\n",
      "Accuracy: 85.93999743461609%\n",
      "\n",
      "Epoch 19 :\n",
      "Training loss: 0.3643923548620139\n",
      "Validation loss: 0.3704621195793152\n",
      "Accuracy: 87.08000183105469%\n",
      "\n",
      "Epoch 20 :\n",
      "Training loss: 0.3601458671330008\n",
      "Validation loss: 0.3727341294288635\n",
      "Accuracy: 87.09999918937683%\n",
      "\n",
      "Epoch 21 :\n",
      "Training loss: 0.3620344797081785\n",
      "Validation loss: 0.38715749979019165\n",
      "Accuracy: 86.22000217437744%\n",
      "\n",
      "Epoch 22 :\n",
      "Training loss: 0.35748680337056166\n",
      "Validation loss: 0.38155490159988403\n",
      "Accuracy: 87.01000213623047%\n",
      "\n",
      "Epoch 23 :\n",
      "Training loss: 0.358105373709822\n",
      "Validation loss: 0.3903847932815552\n",
      "Accuracy: 86.84999942779541%\n",
      "\n",
      "Epoch 24 :\n",
      "Training loss: 0.3505876290915744\n",
      "Validation loss: 0.38607901334762573\n",
      "Accuracy: 86.68000102043152%\n",
      "\n",
      "Epoch 25 :\n",
      "Training loss: 0.3459158705146328\n",
      "Validation loss: 0.3843868374824524\n",
      "Accuracy: 87.25000023841858%\n",
      "\n",
      "Epoch 26 :\n",
      "Training loss: 0.3506283755622693\n",
      "Validation loss: 0.39129161834716797\n",
      "Accuracy: 86.76000237464905%\n",
      "\n",
      "Epoch 27 :\n",
      "Training loss: 0.3435435414489017\n",
      "Validation loss: 0.38436514139175415\n",
      "Accuracy: 86.66999936103821%\n",
      "\n",
      "Epoch 28 :\n",
      "Training loss: 0.3410891376689934\n",
      "Validation loss: 0.3812194764614105\n",
      "Accuracy: 87.08000183105469%\n",
      "\n",
      "Epoch 29 :\n",
      "Training loss: 0.3475954779493275\n",
      "Validation loss: 0.40321898460388184\n",
      "Accuracy: 87.69999742507935%\n",
      "\n"
     ]
    }
   ],
   "source": [
    "## TODO: Train your model with dropout, and monitor the training progress with the validation loss and accuracy\n",
    "model = ClassifierDropout()\n",
    "criterion = nn.NLLLoss()\n",
    "optimizer = optim.Adam(model.parameters(), lr=0.003)\n",
    "\n",
    "epochs = 30\n",
    "steps = 0\n",
    "\n",
    "train_losses, test_losses = [], []\n",
    "\n",
    "for e in range(epochs):\n",
    "    running_loss = 0\n",
    "    for images, labels in trainloader:\n",
    "        \n",
    "        optimizer.zero_grad()\n",
    "        \n",
    "        log_ps = model(images)\n",
    "        loss = criterion(log_ps, labels)\n",
    "        loss.backward()\n",
    "        optimizer.step()\n",
    "        \n",
    "        running_loss += loss.item()\n",
    "        \n",
    "    else:\n",
    "        ## TODO: Implement the validation pass and print out the validation accuracy\n",
    "        train_losses.append(running_loss/len(trainloader))\n",
    "        \n",
    "        model.eval()\n",
    "        \n",
    "        with torch.no_grad():\n",
    "        \n",
    "            running_loss = 0\n",
    "            accuracy = 0\n",
    "            accuracy_len = 0\n",
    "            for images, labels in testloader:\n",
    "\n",
    "                log_ps = model(images)\n",
    "                top_p, prediction = torch.topk(log_ps, k=1)\n",
    "\n",
    "                loss = criterion(log_ps, labels)\n",
    "                results = prediction == labels.view(*prediction.shape)\n",
    "\n",
    "                running_loss+= loss\n",
    "                accuracy+=torch.sum(results)\n",
    "                accuracy_len+=results.shape[0]\n",
    "            \n",
    "            accuracy = accuracy.type(torch.FloatTensor) / accuracy_len\n",
    "            test_losses.append(running_loss/len(testloader))\n",
    "        \n",
    "        model.train()\n",
    "        \n",
    "        print(f'Epoch {e} :')\n",
    "        print(f'Training loss: {train_losses[-1]}')\n",
    "        print(f'Validation loss: {test_losses[-1]}')\n",
    "        print(f'Accuracy: {accuracy.item()*100}%\\n')"
   ]
  },
  {
   "cell_type": "code",
   "execution_count": 55,
   "metadata": {},
   "outputs": [
    {
     "data": {
      "text/plain": [
       "[<matplotlib.lines.Line2D at 0x7fd9c1810110>]"
      ]
     },
     "execution_count": 55,
     "metadata": {},
     "output_type": "execute_result"
    },
    {
     "data": {
      "image/png": "[encoded data removed]",
      "text/plain": [
       "<Figure size 432x288 with 1 Axes>"
      ]
     },
     "metadata": {
      "image/png": {
       "height": 248,
       "width": 380
      },
      "needs_background": "light"
     },
     "output_type": "display_data"
    }
   ],
   "source": [
    "plt.plot(train_losses)\n",
    "plt.plot(test_losses)"
   ]
  },
  {
   "cell_type": "markdown",
   "metadata": {},
   "source": [
    "## Inference\n",
    "\n",
    "Now that the model is trained, we can use it for inference. We've done this before, but now we need to remember to set the model in inference mode with `model.eval()`. You'll also want to turn off autograd with the `torch.no_grad()` context."
   ]
  },
  {
   "cell_type": "code",
   "execution_count": 60,
   "metadata": {},
   "outputs": [
    {
     "data": {
      "image/png": "[encoded data removed]",
      "text/plain": [
       "<Figure size 432x648 with 2 Axes>"
      ]
     },
     "metadata": {
      "image/png": {
       "height": 216,
       "width": 424
      },
      "needs_background": "light"
     },
     "output_type": "display_data"
    }
   ],
   "source": [
    "# Import helper module (should be in the repo)\n",
    "import helper\n",
    "\n",
    "# Test out your network!\n",
    "\n",
    "model.eval()\n",
    "\n",
    "dataiter = iter(testloader)\n",
    "images, labels = dataiter.next()\n",
    "img = images[0]\n",
    "# Convert 2D image to 1D vector\n",
    "img = img.view(1, 784)\n",
    "\n",
    "# Calculate the class probabilities (softmax) for img\n",
    "with torch.no_grad():\n",
    "    output = model.forward(img)\n",
    "\n",
    "ps = torch.exp(output)\n",
    "\n",
    "# Plot the image and probabilities\n",
    "helper.view_classify(img.view(1, 28, 28), ps, version='Fashion')"
   ]
  },
  {
   "cell_type": "markdown",
   "metadata": {},
   "source": [
    "## Next Up!\n",
    "\n",
    "In the next part, I'll show you how to save your trained models. In general, you won't want to train a model everytime you need it. Instead, you'll train once, save it, then load the model when you want to train more or use if for inference."
   ]
  },
  {
   "cell_type": "code",
   "execution_count": null,
   "metadata": {},
   "outputs": [],
   "source": []
  }
 ],
 "metadata": {
  "kernelspec": {
   "display_name": "Python 3",
   "language": "python",
   "name": "python3"
  },
  "language_info": {
   "codemirror_mode": {
    "name": "ipython",
    "version": 3
   },
   "file_extension": ".py",
   "mimetype": "text/x-python",
   "name": "python",
   "nbconvert_exporter": "python",
   "pygments_lexer": "ipython3",
   "version": "3.7.5"
  }
 },
 "nbformat": 4,
 "nbformat_minor": 2
}
